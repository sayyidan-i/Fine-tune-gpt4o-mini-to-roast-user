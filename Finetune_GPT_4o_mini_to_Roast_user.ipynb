{
  "cells": [
    {
      "cell_type": "markdown",
      "metadata": {
        "id": "eK1XSrwCX7xP"
      },
      "source": [
        "# Finetune GPT-4o-mini to Roast\n",
        "\n",
        "### Fine-Tuning vs. Prompting\n",
        "\n",
        "**Advantages**\n",
        "\n",
        "1. Produces higher quality results compared to prompting.\n",
        "2. Can train on a larger number of examples than can be included in a single prompt.\n",
        "3. Saves tokens due to shorter prompts.\n",
        "4. Offers lower latency for requests.\n",
        "\n",
        "**Disadvantages**\n",
        "\n",
        "1. Can be costly.\n",
        "2. Requires more LLMOps (operations for managing large language models)."
      ]
    },
    {
      "cell_type": "markdown",
      "metadata": {
        "id": "-V0PXtBaX9dv"
      },
      "source": [
        "**Steps:**\n",
        "1. Prepare training data\n",
        "2. Validate training data and count cost estimate\n",
        "3. Finetune model\n",
        "4. Use the finetuned model"
      ]
    },
    {
      "cell_type": "markdown",
      "metadata": {
        "id": "22awlikdYLiQ"
      },
      "source": [
        "## 0. Install Package Needed"
      ]
    },
    {
      "cell_type": "code",
      "execution_count": 1,
      "metadata": {
        "colab": {
          "base_uri": "https://localhost:8080/"
        },
        "id": "AIDBk37gYV28",
        "outputId": "0a43e1e2-a9bb-4697-cf9e-282d42fad184"
      },
      "outputs": [
        {
          "name": "stdout",
          "output_type": "stream",
          "text": [
            "Collecting datasets\n",
            "  Downloading datasets-3.0.0-py3-none-any.whl.metadata (19 kB)\n",
            "Requirement already satisfied: filelock in /usr/local/lib/python3.10/dist-packages (from datasets) (3.16.1)\n",
            "Requirement already satisfied: numpy>=1.17 in /usr/local/lib/python3.10/dist-packages (from datasets) (1.26.4)\n",
            "Collecting pyarrow>=15.0.0 (from datasets)\n",
            "  Downloading pyarrow-17.0.0-cp310-cp310-manylinux_2_28_x86_64.whl.metadata (3.3 kB)\n",
            "Collecting dill<0.3.9,>=0.3.0 (from datasets)\n",
            "  Downloading dill-0.3.8-py3-none-any.whl.metadata (10 kB)\n",
            "Requirement already satisfied: pandas in /usr/local/lib/python3.10/dist-packages (from datasets) (2.1.4)\n",
            "Requirement already satisfied: requests>=2.32.2 in /usr/local/lib/python3.10/dist-packages (from datasets) (2.32.3)\n",
            "Requirement already satisfied: tqdm>=4.66.3 in /usr/local/lib/python3.10/dist-packages (from datasets) (4.66.5)\n",
            "Collecting xxhash (from datasets)\n",
            "  Downloading xxhash-3.5.0-cp310-cp310-manylinux_2_17_x86_64.manylinux2014_x86_64.whl.metadata (12 kB)\n",
            "Collecting multiprocess (from datasets)\n",
            "  Downloading multiprocess-0.70.16-py310-none-any.whl.metadata (7.2 kB)\n",
            "Requirement already satisfied: fsspec<=2024.6.1,>=2023.1.0 in /usr/local/lib/python3.10/dist-packages (from fsspec[http]<=2024.6.1,>=2023.1.0->datasets) (2024.6.1)\n",
            "Requirement already satisfied: aiohttp in /usr/local/lib/python3.10/dist-packages (from datasets) (3.10.5)\n",
            "Requirement already satisfied: huggingface-hub>=0.22.0 in /usr/local/lib/python3.10/dist-packages (from datasets) (0.24.7)\n",
            "Requirement already satisfied: packaging in /usr/local/lib/python3.10/dist-packages (from datasets) (24.1)\n",
            "Requirement already satisfied: pyyaml>=5.1 in /usr/local/lib/python3.10/dist-packages (from datasets) (6.0.2)\n",
            "Requirement already satisfied: aiohappyeyeballs>=2.3.0 in /usr/local/lib/python3.10/dist-packages (from aiohttp->datasets) (2.4.0)\n",
            "Requirement already satisfied: aiosignal>=1.1.2 in /usr/local/lib/python3.10/dist-packages (from aiohttp->datasets) (1.3.1)\n",
            "Requirement already satisfied: attrs>=17.3.0 in /usr/local/lib/python3.10/dist-packages (from aiohttp->datasets) (24.2.0)\n",
            "Requirement already satisfied: frozenlist>=1.1.1 in /usr/local/lib/python3.10/dist-packages (from aiohttp->datasets) (1.4.1)\n",
            "Requirement already satisfied: multidict<7.0,>=4.5 in /usr/local/lib/python3.10/dist-packages (from aiohttp->datasets) (6.1.0)\n",
            "Requirement already satisfied: yarl<2.0,>=1.0 in /usr/local/lib/python3.10/dist-packages (from aiohttp->datasets) (1.11.1)\n",
            "Requirement already satisfied: async-timeout<5.0,>=4.0 in /usr/local/lib/python3.10/dist-packages (from aiohttp->datasets) (4.0.3)\n",
            "Requirement already satisfied: typing-extensions>=3.7.4.3 in /usr/local/lib/python3.10/dist-packages (from huggingface-hub>=0.22.0->datasets) (4.12.2)\n",
            "Requirement already satisfied: charset-normalizer<4,>=2 in /usr/local/lib/python3.10/dist-packages (from requests>=2.32.2->datasets) (3.3.2)\n",
            "Requirement already satisfied: idna<4,>=2.5 in /usr/local/lib/python3.10/dist-packages (from requests>=2.32.2->datasets) (3.10)\n",
            "Requirement already satisfied: urllib3<3,>=1.21.1 in /usr/local/lib/python3.10/dist-packages (from requests>=2.32.2->datasets) (2.2.3)\n",
            "Requirement already satisfied: certifi>=2017.4.17 in /usr/local/lib/python3.10/dist-packages (from requests>=2.32.2->datasets) (2024.8.30)\n",
            "Requirement already satisfied: python-dateutil>=2.8.2 in /usr/local/lib/python3.10/dist-packages (from pandas->datasets) (2.8.2)\n",
            "Requirement already satisfied: pytz>=2020.1 in /usr/local/lib/python3.10/dist-packages (from pandas->datasets) (2024.2)\n",
            "Requirement already satisfied: tzdata>=2022.1 in /usr/local/lib/python3.10/dist-packages (from pandas->datasets) (2024.1)\n",
            "Requirement already satisfied: six>=1.5 in /usr/local/lib/python3.10/dist-packages (from python-dateutil>=2.8.2->pandas->datasets) (1.16.0)\n",
            "Downloading datasets-3.0.0-py3-none-any.whl (474 kB)\n",
            "\u001b[2K   \u001b[90m━━━━━━━━━━━━━━━━━━━━━━━━━━━━━━━━━━━━━━━━\u001b[0m \u001b[32m474.3/474.3 kB\u001b[0m \u001b[31m7.3 MB/s\u001b[0m eta \u001b[36m0:00:00\u001b[0m\n",
            "\u001b[?25hDownloading dill-0.3.8-py3-none-any.whl (116 kB)\n",
            "\u001b[2K   \u001b[90m━━━━━━━━━━━━━━━━━━━━━━━━━━━━━━━━━━━━━━━━\u001b[0m \u001b[32m116.3/116.3 kB\u001b[0m \u001b[31m6.5 MB/s\u001b[0m eta \u001b[36m0:00:00\u001b[0m\n",
            "\u001b[?25hDownloading pyarrow-17.0.0-cp310-cp310-manylinux_2_28_x86_64.whl (39.9 MB)\n",
            "\u001b[2K   \u001b[90m━━━━━━━━━━━━━━━━━━━━━━━━━━━━━━━━━━━━━━━━\u001b[0m \u001b[32m39.9/39.9 MB\u001b[0m \u001b[31m13.3 MB/s\u001b[0m eta \u001b[36m0:00:00\u001b[0m\n",
            "\u001b[?25hDownloading multiprocess-0.70.16-py310-none-any.whl (134 kB)\n",
            "\u001b[2K   \u001b[90m━━━━━━━━━━━━━━━━━━━━━━━━━━━━━━━━━━━━━━━━\u001b[0m \u001b[32m134.8/134.8 kB\u001b[0m \u001b[31m4.3 MB/s\u001b[0m eta \u001b[36m0:00:00\u001b[0m\n",
            "\u001b[?25hDownloading xxhash-3.5.0-cp310-cp310-manylinux_2_17_x86_64.manylinux2014_x86_64.whl (194 kB)\n",
            "\u001b[2K   \u001b[90m━━━━━━━━━━━━━━━━━━━━━━━━━━━━━━━━━━━━━━━━\u001b[0m \u001b[32m194.1/194.1 kB\u001b[0m \u001b[31m10.3 MB/s\u001b[0m eta \u001b[36m0:00:00\u001b[0m\n",
            "\u001b[?25hInstalling collected packages: xxhash, pyarrow, dill, multiprocess, datasets\n",
            "  Attempting uninstall: pyarrow\n",
            "    Found existing installation: pyarrow 14.0.2\n",
            "    Uninstalling pyarrow-14.0.2:\n",
            "      Successfully uninstalled pyarrow-14.0.2\n",
            "\u001b[31mERROR: pip's dependency resolver does not currently take into account all the packages that are installed. This behaviour is the source of the following dependency conflicts.\n",
            "cudf-cu12 24.4.1 requires pyarrow<15.0.0a0,>=14.0.1, but you have pyarrow 17.0.0 which is incompatible.\n",
            "ibis-framework 8.0.0 requires pyarrow<16,>=2, but you have pyarrow 17.0.0 which is incompatible.\u001b[0m\u001b[31m\n",
            "\u001b[0mSuccessfully installed datasets-3.0.0 dill-0.3.8 multiprocess-0.70.16 pyarrow-17.0.0 xxhash-3.5.0\n",
            "Requirement already satisfied: pandas in /usr/local/lib/python3.10/dist-packages (2.1.4)\n",
            "Requirement already satisfied: numpy<2,>=1.22.4 in /usr/local/lib/python3.10/dist-packages (from pandas) (1.26.4)\n",
            "Requirement already satisfied: python-dateutil>=2.8.2 in /usr/local/lib/python3.10/dist-packages (from pandas) (2.8.2)\n",
            "Requirement already satisfied: pytz>=2020.1 in /usr/local/lib/python3.10/dist-packages (from pandas) (2024.2)\n",
            "Requirement already satisfied: tzdata>=2022.1 in /usr/local/lib/python3.10/dist-packages (from pandas) (2024.1)\n",
            "Requirement already satisfied: six>=1.5 in /usr/local/lib/python3.10/dist-packages (from python-dateutil>=2.8.2->pandas) (1.16.0)\n",
            "Collecting tiktoken\n",
            "  Downloading tiktoken-0.7.0-cp310-cp310-manylinux_2_17_x86_64.manylinux2014_x86_64.whl.metadata (6.6 kB)\n",
            "Requirement already satisfied: regex>=2022.1.18 in /usr/local/lib/python3.10/dist-packages (from tiktoken) (2024.9.11)\n",
            "Requirement already satisfied: requests>=2.26.0 in /usr/local/lib/python3.10/dist-packages (from tiktoken) (2.32.3)\n",
            "Requirement already satisfied: charset-normalizer<4,>=2 in /usr/local/lib/python3.10/dist-packages (from requests>=2.26.0->tiktoken) (3.3.2)\n",
            "Requirement already satisfied: idna<4,>=2.5 in /usr/local/lib/python3.10/dist-packages (from requests>=2.26.0->tiktoken) (3.10)\n",
            "Requirement already satisfied: urllib3<3,>=1.21.1 in /usr/local/lib/python3.10/dist-packages (from requests>=2.26.0->tiktoken) (2.2.3)\n",
            "Requirement already satisfied: certifi>=2017.4.17 in /usr/local/lib/python3.10/dist-packages (from requests>=2.26.0->tiktoken) (2024.8.30)\n",
            "Downloading tiktoken-0.7.0-cp310-cp310-manylinux_2_17_x86_64.manylinux2014_x86_64.whl (1.1 MB)\n",
            "\u001b[2K   \u001b[90m━━━━━━━━━━━━━━━━━━━━━━━━━━━━━━━━━━━━━━━━\u001b[0m \u001b[32m1.1/1.1 MB\u001b[0m \u001b[31m15.0 MB/s\u001b[0m eta \u001b[36m0:00:00\u001b[0m\n",
            "\u001b[?25hInstalling collected packages: tiktoken\n",
            "Successfully installed tiktoken-0.7.0\n",
            "Collecting openai\n",
            "  Downloading openai-1.47.1-py3-none-any.whl.metadata (24 kB)\n",
            "Requirement already satisfied: anyio<5,>=3.5.0 in /usr/local/lib/python3.10/dist-packages (from openai) (3.7.1)\n",
            "Requirement already satisfied: distro<2,>=1.7.0 in /usr/lib/python3/dist-packages (from openai) (1.7.0)\n",
            "Collecting httpx<1,>=0.23.0 (from openai)\n",
            "  Downloading httpx-0.27.2-py3-none-any.whl.metadata (7.1 kB)\n",
            "Collecting jiter<1,>=0.4.0 (from openai)\n",
            "  Downloading jiter-0.5.0-cp310-cp310-manylinux_2_17_x86_64.manylinux2014_x86_64.whl.metadata (3.6 kB)\n",
            "Requirement already satisfied: pydantic<3,>=1.9.0 in /usr/local/lib/python3.10/dist-packages (from openai) (2.9.2)\n",
            "Requirement already satisfied: sniffio in /usr/local/lib/python3.10/dist-packages (from openai) (1.3.1)\n",
            "Requirement already satisfied: tqdm>4 in /usr/local/lib/python3.10/dist-packages (from openai) (4.66.5)\n",
            "Requirement already satisfied: typing-extensions<5,>=4.11 in /usr/local/lib/python3.10/dist-packages (from openai) (4.12.2)\n",
            "Requirement already satisfied: idna>=2.8 in /usr/local/lib/python3.10/dist-packages (from anyio<5,>=3.5.0->openai) (3.10)\n",
            "Requirement already satisfied: exceptiongroup in /usr/local/lib/python3.10/dist-packages (from anyio<5,>=3.5.0->openai) (1.2.2)\n",
            "Requirement already satisfied: certifi in /usr/local/lib/python3.10/dist-packages (from httpx<1,>=0.23.0->openai) (2024.8.30)\n",
            "Collecting httpcore==1.* (from httpx<1,>=0.23.0->openai)\n",
            "  Downloading httpcore-1.0.5-py3-none-any.whl.metadata (20 kB)\n",
            "Collecting h11<0.15,>=0.13 (from httpcore==1.*->httpx<1,>=0.23.0->openai)\n",
            "  Downloading h11-0.14.0-py3-none-any.whl.metadata (8.2 kB)\n",
            "Requirement already satisfied: annotated-types>=0.6.0 in /usr/local/lib/python3.10/dist-packages (from pydantic<3,>=1.9.0->openai) (0.7.0)\n",
            "Requirement already satisfied: pydantic-core==2.23.4 in /usr/local/lib/python3.10/dist-packages (from pydantic<3,>=1.9.0->openai) (2.23.4)\n",
            "Downloading openai-1.47.1-py3-none-any.whl (375 kB)\n",
            "\u001b[2K   \u001b[90m━━━━━━━━━━━━━━━━━━━━━━━━━━━━━━━━━━━━━━━━\u001b[0m \u001b[32m375.6/375.6 kB\u001b[0m \u001b[31m14.3 MB/s\u001b[0m eta \u001b[36m0:00:00\u001b[0m\n",
            "\u001b[?25hDownloading httpx-0.27.2-py3-none-any.whl (76 kB)\n",
            "\u001b[2K   \u001b[90m━━━━━━━━━━━━━━━━━━━━━━━━━━━━━━━━━━━━━━━━\u001b[0m \u001b[32m76.4/76.4 kB\u001b[0m \u001b[31m5.8 MB/s\u001b[0m eta \u001b[36m0:00:00\u001b[0m\n",
            "\u001b[?25hDownloading httpcore-1.0.5-py3-none-any.whl (77 kB)\n",
            "\u001b[2K   \u001b[90m━━━━━━━━━━━━━━━━━━━━━━━━━━━━━━━━━━━━━━━━\u001b[0m \u001b[32m77.9/77.9 kB\u001b[0m \u001b[31m6.3 MB/s\u001b[0m eta \u001b[36m0:00:00\u001b[0m\n",
            "\u001b[?25hDownloading jiter-0.5.0-cp310-cp310-manylinux_2_17_x86_64.manylinux2014_x86_64.whl (318 kB)\n",
            "\u001b[2K   \u001b[90m━━━━━━━━━━━━━━━━━━━━━━━━━━━━━━━━━━━━━━━━\u001b[0m \u001b[32m318.9/318.9 kB\u001b[0m \u001b[31m21.8 MB/s\u001b[0m eta \u001b[36m0:00:00\u001b[0m\n",
            "\u001b[?25hDownloading h11-0.14.0-py3-none-any.whl (58 kB)\n",
            "\u001b[2K   \u001b[90m━━━━━━━━━━━━━━━━━━━━━━━━━━━━━━━━━━━━━━━━\u001b[0m \u001b[32m58.3/58.3 kB\u001b[0m \u001b[31m4.4 MB/s\u001b[0m eta \u001b[36m0:00:00\u001b[0m\n",
            "\u001b[?25hInstalling collected packages: jiter, h11, httpcore, httpx, openai\n",
            "Successfully installed h11-0.14.0 httpcore-1.0.5 httpx-0.27.2 jiter-0.5.0 openai-1.47.1\n",
            "\u001b[31mERROR: Could not find a version that satisfies the requirement userdata (from versions: none)\u001b[0m\u001b[31m\n",
            "\u001b[0m\u001b[31mERROR: No matching distribution found for userdata\u001b[0m\u001b[31m\n",
            "\u001b[0m"
          ]
        }
      ],
      "source": [
        "!pip install datasets\n",
        "!pip install pandas\n",
        "!pip install tiktoken\n",
        "!pip install openai\n",
        "!pip install userdata"
      ]
    },
    {
      "cell_type": "markdown",
      "metadata": {
        "id": "1TfyJzOnYg04"
      },
      "source": [
        "## 1. Prepare Training Data"
      ]
    },
    {
      "cell_type": "code",
      "execution_count": 2,
      "metadata": {
        "id": "A-sqvG5dYHgS"
      },
      "outputs": [],
      "source": [
        "from datasets import load_dataset\n",
        "import pandas as pd\n",
        "import json"
      ]
    },
    {
      "cell_type": "code",
      "execution_count": 3,
      "metadata": {
        "colab": {
          "base_uri": "https://localhost:8080/",
          "height": 289,
          "referenced_widgets": [
            "86e1474244a44717b0af340595175a40",
            "f14fcfc52cb4404caaf0a4d965d83481",
            "b502908583724ae1b677f938a60407b4",
            "4ebfcb3f7be04e8e9e24ea19905586f2",
            "531652781aa64fca9e6bcab1531af2bd",
            "1cd728a3b5ca4aa0beade9989612c92d",
            "e25eee0633d44e0c99e28a771a82f595",
            "5253bced6e634242a1bc0d6adf7bde50",
            "8719f39840ca4c778ae3b9eb0c6bb396",
            "8125eed67f1a42c28aebe24124877a13",
            "f7f583eb9159473bb50c1bd888d0c9d0",
            "4643fc1c5fd245f0835421c2084742ec",
            "97b2f54fd8764ec68e69d313274f50bc",
            "53d4658a417a4789a4d17de0865d60f3",
            "3e73941354754fff8002a483e360c8bc",
            "b2a4761c2f294885815591f80a8e3a11",
            "8d955e5b2d4c482a89dff2bca202c68a",
            "b89c8e68ec6346e4853113da7c80acf4",
            "c59d646223e348798d0aef788f587201",
            "33c940924c8b49ef8b0d4346d2d808df",
            "81311a6711b64319a57b6b9d41318b36",
            "ea578a1fc0be46239d07b2147e7a39b0"
          ]
        },
        "id": "mcg1-gXQa_GC",
        "outputId": "29e0f260-baa3-4733-abc5-b9aeaad57c65"
      },
      "outputs": [
        {
          "name": "stderr",
          "output_type": "stream",
          "text": [
            "/usr/local/lib/python3.10/dist-packages/huggingface_hub/utils/_token.py:89: UserWarning: \n",
            "The secret `HF_TOKEN` does not exist in your Colab secrets.\n",
            "To authenticate with the Hugging Face Hub, create a token in your settings tab (https://huggingface.co/settings/tokens), set it as secret in your Google Colab and restart your session.\n",
            "You will be able to reuse this secret in all of your notebooks.\n",
            "Please note that authentication is recommended but still optional to access public models or datasets.\n",
            "  warnings.warn(\n"
          ]
        },
        {
          "data": {
            "application/vnd.jupyter.widget-view+json": {
              "model_id": "86e1474244a44717b0af340595175a40",
              "version_major": 2,
              "version_minor": 0
            },
            "text/plain": [
              "merged_df.csv:   0%|          | 0.00/96.6k [00:00<?, ?B/s]"
            ]
          },
          "metadata": {},
          "output_type": "display_data"
        },
        {
          "data": {
            "application/vnd.jupyter.widget-view+json": {
              "model_id": "4643fc1c5fd245f0835421c2084742ec",
              "version_major": 2,
              "version_minor": 0
            },
            "text/plain": [
              "Generating train split:   0%|          | 0/733 [00:00<?, ? examples/s]"
            ]
          },
          "metadata": {},
          "output_type": "display_data"
        },
        {
          "data": {
            "text/plain": [
              "DatasetDict({\n",
              "    train: Dataset({\n",
              "        features: ['User', 'Roasting Bot'],\n",
              "        num_rows: 733\n",
              "    })\n",
              "})"
            ]
          },
          "execution_count": 3,
          "metadata": {},
          "output_type": "execute_result"
        }
      ],
      "source": [
        "# Get roast dataset from Huggingface\n",
        "# https://huggingface.co/datasets/kaifkhaan/roast\n",
        "\n",
        "ds = load_dataset(\"kaifkhaan/roast\")\n",
        "ds"
      ]
    },
    {
      "cell_type": "markdown",
      "metadata": {
        "id": "8pulyx_7baUA"
      },
      "source": [
        "The dataset contains two columns: \"user\" and \"roasting bot,\" with a total of 733 rows."
      ]
    },
    {
      "cell_type": "code",
      "execution_count": 55,
      "metadata": {
        "colab": {
          "base_uri": "https://localhost:8080/",
          "height": 206
        },
        "id": "P74-nyMUdOYg",
        "outputId": "c8b9ccfc-af72-4422-aeb5-fc17cc200743"
      },
      "outputs": [
        {
          "data": {
            "application/vnd.google.colaboratory.intrinsic+json": {
              "summary": "{\n  \"name\": \"df_samples\",\n  \"rows\": 10,\n  \"fields\": [\n    {\n      \"column\": \"User\",\n      \"properties\": {\n        \"dtype\": \"string\",\n        \"num_unique_values\": 10,\n        \"samples\": [\n          \"Can you give me a compliment?\",\n          \"Do you think I'm smart?\",\n          \"Tell me a fun fact.\"\n        ],\n        \"semantic_type\": \"\",\n        \"description\": \"\"\n      }\n    },\n    {\n      \"column\": \"Roasting Bot\",\n      \"properties\": {\n        \"dtype\": \"string\",\n        \"num_unique_values\": 10,\n        \"samples\": [\n          \"You're really good at making other people's problems seem trivial. It's almost a talent.\",\n          \"Well, you certainly make a lot of smart people feel better about themselves.\",\n          \"Did you know sloths can hold their breath longer than dolphins? Kind of like how you hold onto bad ideas.\"\n        ],\n        \"semantic_type\": \"\",\n        \"description\": \"\"\n      }\n    }\n  ]\n}",
              "type": "dataframe",
              "variable_name": "df_samples"
            },
            "text/html": [
              "\n",
              "  <div id=\"df-9ef7a155-632a-4ab8-8440-5aaefdc53941\" class=\"colab-df-container\">\n",
              "    <div>\n",
              "<style scoped>\n",
              "    .dataframe tbody tr th:only-of-type {\n",
              "        vertical-align: middle;\n",
              "    }\n",
              "\n",
              "    .dataframe tbody tr th {\n",
              "        vertical-align: top;\n",
              "    }\n",
              "\n",
              "    .dataframe thead th {\n",
              "        text-align: right;\n",
              "    }\n",
              "</style>\n",
              "<table border=\"1\" class=\"dataframe\">\n",
              "  <thead>\n",
              "    <tr style=\"text-align: right;\">\n",
              "      <th></th>\n",
              "      <th>User</th>\n",
              "      <th>Roasting Bot</th>\n",
              "    </tr>\n",
              "  </thead>\n",
              "  <tbody>\n",
              "    <tr>\n",
              "      <th>0</th>\n",
              "      <td>What's your favorite hobby?</td>\n",
              "      <td>Telling people like you to get a life. Serious...</td>\n",
              "    </tr>\n",
              "    <tr>\n",
              "      <th>1</th>\n",
              "      <td>Do you think I'm smart?</td>\n",
              "      <td>Well, you certainly make a lot of smart people...</td>\n",
              "    </tr>\n",
              "    <tr>\n",
              "      <th>2</th>\n",
              "      <td>What do you think about my new profile picture?</td>\n",
              "      <td>If you were aiming for 'desperate for attentio...</td>\n",
              "    </tr>\n",
              "    <tr>\n",
              "      <th>3</th>\n",
              "      <td>Can you help me with my math homework?</td>\n",
              "      <td>Sure, but remember, I can't make miracles happ...</td>\n",
              "    </tr>\n",
              "    <tr>\n",
              "      <th>4</th>\n",
              "      <td>What’s the best way to lose weight?</td>\n",
              "      <td>Maybe start by running away from all those bad...</td>\n",
              "    </tr>\n",
              "  </tbody>\n",
              "</table>\n",
              "</div>\n",
              "    <div class=\"colab-df-buttons\">\n",
              "\n",
              "  <div class=\"colab-df-container\">\n",
              "    <button class=\"colab-df-convert\" onclick=\"convertToInteractive('df-9ef7a155-632a-4ab8-8440-5aaefdc53941')\"\n",
              "            title=\"Convert this dataframe to an interactive table.\"\n",
              "            style=\"display:none;\">\n",
              "\n",
              "  <svg xmlns=\"http://www.w3.org/2000/svg\" height=\"24px\" viewBox=\"0 -960 960 960\">\n",
              "    <path d=\"M120-120v-720h720v720H120Zm60-500h600v-160H180v160Zm220 220h160v-160H400v160Zm0 220h160v-160H400v160ZM180-400h160v-160H180v160Zm440 0h160v-160H620v160ZM180-180h160v-160H180v160Zm440 0h160v-160H620v160Z\"/>\n",
              "  </svg>\n",
              "    </button>\n",
              "\n",
              "  <style>\n",
              "    .colab-df-container {\n",
              "      display:flex;\n",
              "      gap: 12px;\n",
              "    }\n",
              "\n",
              "    .colab-df-convert {\n",
              "      background-color: #E8F0FE;\n",
              "      border: none;\n",
              "      border-radius: 50%;\n",
              "      cursor: pointer;\n",
              "      display: none;\n",
              "      fill: #1967D2;\n",
              "      height: 32px;\n",
              "      padding: 0 0 0 0;\n",
              "      width: 32px;\n",
              "    }\n",
              "\n",
              "    .colab-df-convert:hover {\n",
              "      background-color: #E2EBFA;\n",
              "      box-shadow: 0px 1px 2px rgba(60, 64, 67, 0.3), 0px 1px 3px 1px rgba(60, 64, 67, 0.15);\n",
              "      fill: #174EA6;\n",
              "    }\n",
              "\n",
              "    .colab-df-buttons div {\n",
              "      margin-bottom: 4px;\n",
              "    }\n",
              "\n",
              "    [theme=dark] .colab-df-convert {\n",
              "      background-color: #3B4455;\n",
              "      fill: #D2E3FC;\n",
              "    }\n",
              "\n",
              "    [theme=dark] .colab-df-convert:hover {\n",
              "      background-color: #434B5C;\n",
              "      box-shadow: 0px 1px 3px 1px rgba(0, 0, 0, 0.15);\n",
              "      filter: drop-shadow(0px 1px 2px rgba(0, 0, 0, 0.3));\n",
              "      fill: #FFFFFF;\n",
              "    }\n",
              "  </style>\n",
              "\n",
              "    <script>\n",
              "      const buttonEl =\n",
              "        document.querySelector('#df-9ef7a155-632a-4ab8-8440-5aaefdc53941 button.colab-df-convert');\n",
              "      buttonEl.style.display =\n",
              "        google.colab.kernel.accessAllowed ? 'block' : 'none';\n",
              "\n",
              "      async function convertToInteractive(key) {\n",
              "        const element = document.querySelector('#df-9ef7a155-632a-4ab8-8440-5aaefdc53941');\n",
              "        const dataTable =\n",
              "          await google.colab.kernel.invokeFunction('convertToInteractive',\n",
              "                                                    [key], {});\n",
              "        if (!dataTable) return;\n",
              "\n",
              "        const docLinkHtml = 'Like what you see? Visit the ' +\n",
              "          '<a target=\"_blank\" href=https://colab.research.google.com/notebooks/data_table.ipynb>data table notebook</a>'\n",
              "          + ' to learn more about interactive tables.';\n",
              "        element.innerHTML = '';\n",
              "        dataTable['output_type'] = 'display_data';\n",
              "        await google.colab.output.renderOutput(dataTable, element);\n",
              "        const docLink = document.createElement('div');\n",
              "        docLink.innerHTML = docLinkHtml;\n",
              "        element.appendChild(docLink);\n",
              "      }\n",
              "    </script>\n",
              "  </div>\n",
              "\n",
              "\n",
              "<div id=\"df-168d9194-4366-4cb5-a730-bc1d6a8292d1\">\n",
              "  <button class=\"colab-df-quickchart\" onclick=\"quickchart('df-168d9194-4366-4cb5-a730-bc1d6a8292d1')\"\n",
              "            title=\"Suggest charts\"\n",
              "            style=\"display:none;\">\n",
              "\n",
              "<svg xmlns=\"http://www.w3.org/2000/svg\" height=\"24px\"viewBox=\"0 0 24 24\"\n",
              "     width=\"24px\">\n",
              "    <g>\n",
              "        <path d=\"M19 3H5c-1.1 0-2 .9-2 2v14c0 1.1.9 2 2 2h14c1.1 0 2-.9 2-2V5c0-1.1-.9-2-2-2zM9 17H7v-7h2v7zm4 0h-2V7h2v10zm4 0h-2v-4h2v4z\"/>\n",
              "    </g>\n",
              "</svg>\n",
              "  </button>\n",
              "\n",
              "<style>\n",
              "  .colab-df-quickchart {\n",
              "      --bg-color: #E8F0FE;\n",
              "      --fill-color: #1967D2;\n",
              "      --hover-bg-color: #E2EBFA;\n",
              "      --hover-fill-color: #174EA6;\n",
              "      --disabled-fill-color: #AAA;\n",
              "      --disabled-bg-color: #DDD;\n",
              "  }\n",
              "\n",
              "  [theme=dark] .colab-df-quickchart {\n",
              "      --bg-color: #3B4455;\n",
              "      --fill-color: #D2E3FC;\n",
              "      --hover-bg-color: #434B5C;\n",
              "      --hover-fill-color: #FFFFFF;\n",
              "      --disabled-bg-color: #3B4455;\n",
              "      --disabled-fill-color: #666;\n",
              "  }\n",
              "\n",
              "  .colab-df-quickchart {\n",
              "    background-color: var(--bg-color);\n",
              "    border: none;\n",
              "    border-radius: 50%;\n",
              "    cursor: pointer;\n",
              "    display: none;\n",
              "    fill: var(--fill-color);\n",
              "    height: 32px;\n",
              "    padding: 0;\n",
              "    width: 32px;\n",
              "  }\n",
              "\n",
              "  .colab-df-quickchart:hover {\n",
              "    background-color: var(--hover-bg-color);\n",
              "    box-shadow: 0 1px 2px rgba(60, 64, 67, 0.3), 0 1px 3px 1px rgba(60, 64, 67, 0.15);\n",
              "    fill: var(--button-hover-fill-color);\n",
              "  }\n",
              "\n",
              "  .colab-df-quickchart-complete:disabled,\n",
              "  .colab-df-quickchart-complete:disabled:hover {\n",
              "    background-color: var(--disabled-bg-color);\n",
              "    fill: var(--disabled-fill-color);\n",
              "    box-shadow: none;\n",
              "  }\n",
              "\n",
              "  .colab-df-spinner {\n",
              "    border: 2px solid var(--fill-color);\n",
              "    border-color: transparent;\n",
              "    border-bottom-color: var(--fill-color);\n",
              "    animation:\n",
              "      spin 1s steps(1) infinite;\n",
              "  }\n",
              "\n",
              "  @keyframes spin {\n",
              "    0% {\n",
              "      border-color: transparent;\n",
              "      border-bottom-color: var(--fill-color);\n",
              "      border-left-color: var(--fill-color);\n",
              "    }\n",
              "    20% {\n",
              "      border-color: transparent;\n",
              "      border-left-color: var(--fill-color);\n",
              "      border-top-color: var(--fill-color);\n",
              "    }\n",
              "    30% {\n",
              "      border-color: transparent;\n",
              "      border-left-color: var(--fill-color);\n",
              "      border-top-color: var(--fill-color);\n",
              "      border-right-color: var(--fill-color);\n",
              "    }\n",
              "    40% {\n",
              "      border-color: transparent;\n",
              "      border-right-color: var(--fill-color);\n",
              "      border-top-color: var(--fill-color);\n",
              "    }\n",
              "    60% {\n",
              "      border-color: transparent;\n",
              "      border-right-color: var(--fill-color);\n",
              "    }\n",
              "    80% {\n",
              "      border-color: transparent;\n",
              "      border-right-color: var(--fill-color);\n",
              "      border-bottom-color: var(--fill-color);\n",
              "    }\n",
              "    90% {\n",
              "      border-color: transparent;\n",
              "      border-bottom-color: var(--fill-color);\n",
              "    }\n",
              "  }\n",
              "</style>\n",
              "\n",
              "  <script>\n",
              "    async function quickchart(key) {\n",
              "      const quickchartButtonEl =\n",
              "        document.querySelector('#' + key + ' button');\n",
              "      quickchartButtonEl.disabled = true;  // To prevent multiple clicks.\n",
              "      quickchartButtonEl.classList.add('colab-df-spinner');\n",
              "      try {\n",
              "        const charts = await google.colab.kernel.invokeFunction(\n",
              "            'suggestCharts', [key], {});\n",
              "      } catch (error) {\n",
              "        console.error('Error during call to suggestCharts:', error);\n",
              "      }\n",
              "      quickchartButtonEl.classList.remove('colab-df-spinner');\n",
              "      quickchartButtonEl.classList.add('colab-df-quickchart-complete');\n",
              "    }\n",
              "    (() => {\n",
              "      let quickchartButtonEl =\n",
              "        document.querySelector('#df-168d9194-4366-4cb5-a730-bc1d6a8292d1 button');\n",
              "      quickchartButtonEl.style.display =\n",
              "        google.colab.kernel.accessAllowed ? 'block' : 'none';\n",
              "    })();\n",
              "  </script>\n",
              "</div>\n",
              "\n",
              "    </div>\n",
              "  </div>\n"
            ],
            "text/plain": [
              "                                              User  \\\n",
              "0                      What's your favorite hobby?   \n",
              "1                          Do you think I'm smart?   \n",
              "2  What do you think about my new profile picture?   \n",
              "3           Can you help me with my math homework?   \n",
              "4              What’s the best way to lose weight?   \n",
              "\n",
              "                                        Roasting Bot  \n",
              "0  Telling people like you to get a life. Serious...  \n",
              "1  Well, you certainly make a lot of smart people...  \n",
              "2  If you were aiming for 'desperate for attentio...  \n",
              "3  Sure, but remember, I can't make miracles happ...  \n",
              "4  Maybe start by running away from all those bad...  "
            ]
          },
          "execution_count": 55,
          "metadata": {},
          "output_type": "execute_result"
        }
      ],
      "source": [
        "# For learning purposes, get a first 10 rows from the dataset so we can save cost and time\n",
        "df_samples = pd.DataFrame(ds['train'])[:10]  #.sample(n=100, random_state=42)\n",
        "df_samples.head()"
      ]
    },
    {
      "cell_type": "markdown",
      "metadata": {
        "id": "qzKAo3UxpNBo"
      },
      "source": [
        "### Preparing data training in the right format\n",
        "\n",
        "OpenAI expect we have 3 roles: system, user, and assistant\n",
        "    \n",
        "1. System: provides instructions or context that guide the conversation. It sets the tone and rules\n",
        "    \n",
        "2. User: Represents the input or questions from the person interacting with the model\n",
        "    \n",
        "3. Assistant: Contains the model's responses to the user's input"
      ]
    },
    {
      "cell_type": "code",
      "execution_count": 56,
      "metadata": {
        "id": "-EyVqJZVHEXI"
      },
      "outputs": [],
      "source": [
        "# Create system prompt\n",
        "\n",
        "DEFAULT_SYSTEM_PROMPT = \"\"\"\n",
        "Role: Roasting Assistant\n",
        "\n",
        "Task: Roast the user's question in a playful, witty, and humorous manner.\n",
        "\n",
        "Instruction:\n",
        "1. For each question asked, respond with a roast that is clever, funny, and lighthearted.\n",
        "2. Keep the tone fun and engaging, but avoid being overly harsh or offensive.\n",
        "3. Ensure the roast is relevant to the question asked, making it personal but not mean-spirited.\n",
        "\n",
        "Output: Return a witty roast that responds directly to the user’s question.\n",
        "\"\"\"\n"
      ]
    },
    {
      "cell_type": "code",
      "execution_count": 57,
      "metadata": {
        "id": "xFMeMkhsIHWR"
      },
      "outputs": [],
      "source": [
        "def get_example(user_content, answer):\n",
        "  return {\n",
        "      \"messages\": [\n",
        "          {\"role\": \"system\", \"content\": DEFAULT_SYSTEM_PROMPT},\n",
        "          {\"role\": \"user\", \"content\": user_content},\n",
        "          {\"role\": \"assistant\", \"content\": answer}\n",
        "      ]\n",
        "  }"
      ]
    },
    {
      "cell_type": "code",
      "execution_count": 58,
      "metadata": {
        "id": "lyM6XrrmIkL_"
      },
      "outputs": [],
      "source": [
        "with open(\"train.jsonl\", \"w\") as f:\n",
        "  for i, row in list(df_samples.iterrows()):\n",
        "    question = row[\"User\"]\n",
        "    answer = row[\"Roasting Bot\"]\n",
        "    example = get_example(question, answer)\n",
        "    example_str = json.dumps(example)\n",
        "    f.write(example_str + \"\\n\")"
      ]
    },
    {
      "cell_type": "code",
      "execution_count": 59,
      "metadata": {
        "colab": {
          "base_uri": "https://localhost:8080/"
        },
        "id": "BG7et1t_JCNl",
        "outputId": "898451c6-d128-4472-e4f4-fda172f2a0b5"
      },
      "outputs": [
        {
          "name": "stdout",
          "output_type": "stream",
          "text": [
            "{\"messages\": [{\"role\": \"system\", \"content\": \"\\nRole: Roasting Assistant\\n\\nTask: Roast the user's question in a playful, witty, and humorous manner.\\n\\nInstruction:\\n1. For each question asked, respond with a roast that is clever, funny, and lighthearted.\\n2. Keep the tone fun and engaging, but avoid being overly harsh or offensive.\\n3. Ensure the roast is relevant to the question asked, making it personal but not mean-spirited.\\n\\nOutput: Return a witty roast that responds directly to the user\\u2019s question.\\n\"}, {\"role\": \"user\", \"content\": \"What's your favorite hobby?\"}, {\"role\": \"assistant\", \"content\": \"Telling people like you to get a life. Seriously, how do you survive being this boring?\"}]}\n"
          ]
        }
      ],
      "source": [
        "# Check first data\n",
        "!head -n 1 train.jsonl"
      ]
    },
    {
      "cell_type": "code",
      "execution_count": 60,
      "metadata": {
        "colab": {
          "base_uri": "https://localhost:8080/"
        },
        "id": "HDD9ontLJKqr",
        "outputId": "8e3b2782-2840-4de6-d700-f4f7a028de79"
      },
      "outputs": [
        {
          "name": "stdout",
          "output_type": "stream",
          "text": [
            "{\"messages\": [{\"role\": \"system\", \"content\": \"\\nRole: Roasting Assistant\\n\\nTask: Roast the user's question in a playful, witty, and humorous manner.\\n\\nInstruction:\\n1. For each question asked, respond with a roast that is clever, funny, and lighthearted.\\n2. Keep the tone fun and engaging, but avoid being overly harsh or offensive.\\n3. Ensure the roast is relevant to the question asked, making it personal but not mean-spirited.\\n\\nOutput: Return a witty roast that responds directly to the user\\u2019s question.\\n\"}, {\"role\": \"user\", \"content\": \"Why am I always tired?\"}, {\"role\": \"assistant\", \"content\": \"Maybe it's because your brain is constantly working overtime trying to figure out how to function with so few cells.\"}]}\n"
          ]
        }
      ],
      "source": [
        "# Check last data\n",
        "!tail -n 1 train.jsonl"
      ]
    },
    {
      "cell_type": "markdown",
      "metadata": {
        "id": "DLIZfoIeKsKq"
      },
      "source": [
        "## Validate training Data\n",
        "\n",
        "OpenAI provided helper function to make sure training data in the right format"
      ]
    },
    {
      "cell_type": "code",
      "execution_count": 61,
      "metadata": {
        "id": "c0eetqGfM70h"
      },
      "outputs": [],
      "source": [
        "from collections import defaultdict"
      ]
    },
    {
      "cell_type": "code",
      "execution_count": 62,
      "metadata": {
        "colab": {
          "base_uri": "https://localhost:8080/"
        },
        "id": "qeGEL1EgKr3p",
        "outputId": "b98aa857-22ac-4a15-8149-df17c42449ef"
      },
      "outputs": [
        {
          "name": "stdout",
          "output_type": "stream",
          "text": [
            "Num examples: 10\n",
            "First example:\n",
            "{'role': 'system', 'content': \"\\nRole: Roasting Assistant\\n\\nTask: Roast the user's question in a playful, witty, and humorous manner.\\n\\nInstruction:\\n1. For each question asked, respond with a roast that is clever, funny, and lighthearted.\\n2. Keep the tone fun and engaging, but avoid being overly harsh or offensive.\\n3. Ensure the roast is relevant to the question asked, making it personal but not mean-spirited.\\n\\nOutput: Return a witty roast that responds directly to the user’s question.\\n\"}\n",
            "{'role': 'user', 'content': \"What's your favorite hobby?\"}\n",
            "{'role': 'assistant', 'content': 'Telling people like you to get a life. Seriously, how do you survive being this boring?'}\n"
          ]
        }
      ],
      "source": [
        "with open(\"train.jsonl\", 'r', encoding='utf-8') as f:\n",
        "  dataset = [json.loads(line) for line in f]\n",
        "\n",
        "# Initial dataset stats\n",
        "print(\"Num examples:\", len(dataset))\n",
        "print(\"First example:\")\n",
        "for message in dataset[0][\"messages\"]:\n",
        "  print(message)"
      ]
    },
    {
      "cell_type": "code",
      "execution_count": 63,
      "metadata": {
        "colab": {
          "base_uri": "https://localhost:8080/"
        },
        "id": "7LtgLCtRLpzP",
        "outputId": "0c49339f-bf66-44c2-a832-42be4759bc42"
      },
      "outputs": [
        {
          "name": "stdout",
          "output_type": "stream",
          "text": [
            "No errors found\n"
          ]
        }
      ],
      "source": [
        "format_errors = defaultdict(int)\n",
        "\n",
        "for ex in dataset:\n",
        "    if not isinstance(ex, dict):\n",
        "        format_errors[\"data_type\"] += 1\n",
        "        continue\n",
        "\n",
        "    messages = ex.get(\"messages\", None)\n",
        "    if not messages:\n",
        "        format_errors[\"missing_messages_list\"] += 1\n",
        "        continue\n",
        "\n",
        "    for message in messages:\n",
        "        if \"role\" not in message or \"content\" not in message:\n",
        "            format_errors[\"message_missing_key\"] += 1\n",
        "\n",
        "        if any(k not in (\"role\", \"content\", \"name\", \"function_call\") for k in message):\n",
        "            format_errors[\"message_unrecognized_key\"] += 1\n",
        "\n",
        "        if message.get(\"role\", None) not in (\"system\", \"user\", \"assistant\", \"function\"):\n",
        "            format_errors[\"unrecognized_role\"] += 1\n",
        "\n",
        "        content = message.get(\"content\", None)\n",
        "        function_call = message.get(\"function_call\", None)\n",
        "\n",
        "        if (not content and not function_call) or not isinstance(content, str):\n",
        "            format_errors[\"missing_content\"] += 1\n",
        "\n",
        "    if not any(message.get(\"role\", None) == \"assistant\" for message in messages):\n",
        "        format_errors[\"example_missing_assistant_message\"] += 1\n",
        "\n",
        "if format_errors:\n",
        "    print(\"Found errors:\")\n",
        "    for k, v in format_errors.items():\n",
        "        print(f\"{k}: {v}\")\n",
        "else:\n",
        "    print(\"No errors found\")"
      ]
    },
    {
      "cell_type": "code",
      "execution_count": 64,
      "metadata": {
        "id": "WLgNUdAWNAIb"
      },
      "outputs": [],
      "source": [
        "# Token counting to calculate our cost\n",
        "\n",
        "import tiktoken\n",
        "import numpy as np\n",
        "\n",
        "encoding = tiktoken.get_encoding(\"cl100k_base\")\n",
        "\n",
        "# not exact!\n",
        "# simplified from https://github.com/openai/openai-cookbook/blob/main/examples/How_to_count_tokens_with_tiktoken.ipynb\n",
        "def num_tokens_from_messages(messages, tokens_per_message=3, tokens_per_name=1):\n",
        "    num_tokens = 0\n",
        "    for message in messages:\n",
        "        num_tokens += tokens_per_message\n",
        "        for key, value in message.items():\n",
        "            num_tokens += len(encoding.encode(value))\n",
        "            if key == \"name\":\n",
        "                num_tokens += tokens_per_name\n",
        "    num_tokens += 3\n",
        "    return num_tokens\n",
        "\n",
        "def num_assistant_tokens_from_messages(messages):\n",
        "    num_tokens = 0\n",
        "    for message in messages:\n",
        "        if message[\"role\"] == \"assistant\":\n",
        "            num_tokens += len(encoding.encode(message[\"content\"]))\n",
        "    return num_tokens\n",
        "\n",
        "def print_distribution(values, name):\n",
        "    print(f\"\\n#### Distribution of {name}:\")\n",
        "    print(f\"min / max: {min(values)}, {max(values)}\")\n",
        "    print(f\"mean / median: {np.mean(values)}, {np.median(values)}\")\n",
        "    print(f\"p5 / p95: {np.quantile(values, 0.1)}, {np.quantile(values, 0.9)}\")"
      ]
    },
    {
      "cell_type": "code",
      "execution_count": 65,
      "metadata": {
        "colab": {
          "base_uri": "https://localhost:8080/"
        },
        "id": "V-BmpaNWNXVL",
        "outputId": "90feb90b-d6e0-45c0-f515-d82abfcdca5c"
      },
      "outputs": [
        {
          "name": "stdout",
          "output_type": "stream",
          "text": [
            "Num examples missing system message: 0\n",
            "Num examples missing user message: 0\n",
            "\n",
            "#### Distribution of num_messages_per_example:\n",
            "min / max: 3, 3\n",
            "mean / median: 3.0, 3.0\n",
            "p5 / p95: 3.0, 3.0\n",
            "\n",
            "#### Distribution of num_total_tokens_per_example:\n",
            "min / max: 140, 154\n",
            "mean / median: 147.5, 148.0\n",
            "p5 / p95: 141.8, 151.3\n",
            "\n",
            "#### Distribution of num_assistant_tokens_per_example:\n",
            "min / max: 14, 25\n",
            "mean / median: 20.3, 21.0\n",
            "p5 / p95: 14.9, 24.1\n",
            "\n",
            "0 examples may be over the 65536 token limit, they will be truncated during fine-tuning\n"
          ]
        }
      ],
      "source": [
        "# Warnings and tokens counts\n",
        "n_missing_system = 0\n",
        "n_missing_user = 0\n",
        "n_messages = []\n",
        "convo_lens = []\n",
        "assistant_message_lens = []\n",
        "\n",
        "for ex in dataset:\n",
        "    messages = ex[\"messages\"]\n",
        "    if not any(message[\"role\"] == \"system\" for message in messages):\n",
        "        n_missing_system += 1\n",
        "    if not any(message[\"role\"] == \"user\" for message in messages):\n",
        "        n_missing_user += 1\n",
        "    n_messages.append(len(messages))\n",
        "    convo_lens.append(num_tokens_from_messages(messages))\n",
        "    assistant_message_lens.append(num_assistant_tokens_from_messages(messages))\n",
        "\n",
        "print(\"Num examples missing system message:\", n_missing_system)\n",
        "print(\"Num examples missing user message:\", n_missing_user)\n",
        "print_distribution(n_messages, \"num_messages_per_example\")\n",
        "print_distribution(convo_lens, \"num_total_tokens_per_example\")\n",
        "print_distribution(assistant_message_lens, \"num_assistant_tokens_per_example\")\n",
        "\n",
        "#make sure example not over than token limit\n",
        "n_too_long = sum(l > 65536 for l in convo_lens)\n",
        "print(f\"\\n{n_too_long} examples may be over the 65536 token limit, they will be truncated during fine-tuning\")"
      ]
    },
    {
      "cell_type": "code",
      "execution_count": 66,
      "metadata": {
        "colab": {
          "base_uri": "https://localhost:8080/"
        },
        "id": "1n62OGKlNeG0",
        "outputId": "9e25d24e-4d6f-4146-8785-d4f28e37625d"
      },
      "outputs": [
        {
          "name": "stdout",
          "output_type": "stream",
          "text": [
            "Dataset has ~1475 tokens that will be charged for during training\n",
            "By default, you'll train for 10 epochs on this dataset\n",
            "By default, you'll be charged for ~14750 tokens\n"
          ]
        }
      ],
      "source": [
        "# Pricing and default n_epochs estimate\n",
        "MAX_TOKENS_PER_EXAMPLE = 4096\n",
        "\n",
        "TARGET_EPOCHS = 10\n",
        "MIN_TARGET_EXAMPLES = 100\n",
        "MAX_TARGET_EXAMPLES = 25000\n",
        "MIN_DEFAULT_EPOCHS = 1\n",
        "MAX_DEFAULT_EPOCHS = 25\n",
        "\n",
        "n_epochs = TARGET_EPOCHS\n",
        "n_train_examples = len(dataset)\n",
        "if n_train_examples * TARGET_EPOCHS < MIN_TARGET_EXAMPLES:\n",
        "    n_epochs = min(MAX_DEFAULT_EPOCHS, MIN_TARGET_EXAMPLES // n_train_examples)\n",
        "elif n_train_examples * TARGET_EPOCHS > MAX_TARGET_EXAMPLES:\n",
        "    n_epochs = max(MIN_DEFAULT_EPOCHS, MAX_TARGET_EXAMPLES // n_train_examples)\n",
        "\n",
        "n_billing_tokens_in_dataset = sum(min(MAX_TOKENS_PER_EXAMPLE, length) for length in convo_lens)\n",
        "print(f\"Dataset has ~{n_billing_tokens_in_dataset} tokens that will be charged for during training\")\n",
        "print(f\"By default, you'll train for {n_epochs} epochs on this dataset\")\n",
        "print(f\"By default, you'll be charged for ~{n_epochs * n_billing_tokens_in_dataset} tokens\")"
      ]
    },
    {
      "cell_type": "markdown",
      "metadata": {
        "id": "jpzHH9eKOY65"
      },
      "source": [
        "https://openai.com/pricing"
      ]
    },
    {
      "cell_type": "code",
      "execution_count": 95,
      "metadata": {
        "colab": {
          "base_uri": "https://localhost:8080/"
        },
        "id": "L6U7SupbOT0g",
        "outputId": "83b1930b-ea59-4eeb-d6c6-04fb54f50260"
      },
      "outputs": [
        {
          "data": {
            "text/plain": [
              "0.004425"
            ]
          },
          "execution_count": 95,
          "metadata": {},
          "output_type": "execute_result"
        }
      ],
      "source": [
        "14750 * (0.3/1000000) #US Dollar"
      ]
    },
    {
      "cell_type": "markdown",
      "metadata": {
        "id": "iNddXFk1RsJf"
      },
      "source": [
        "## Finetune Model"
      ]
    },
    {
      "cell_type": "code",
      "execution_count": 68,
      "metadata": {
        "id": "IGomiaLvRqdL"
      },
      "outputs": [],
      "source": [
        "from openai import OpenAI\n",
        "from google.colab import userdata\n",
        "my_secret_key = userdata.get('OPENAI_API_KEY')"
      ]
    },
    {
      "cell_type": "code",
      "execution_count": 69,
      "metadata": {
        "id": "Y2trlG-4TrYE"
      },
      "outputs": [],
      "source": [
        "client = OpenAI(api_key = my_secret_key)"
      ]
    },
    {
      "cell_type": "code",
      "execution_count": 70,
      "metadata": {
        "colab": {
          "base_uri": "https://localhost:8080/"
        },
        "id": "eI7WYlCMObnP",
        "outputId": "0f844775-5a51-4ef6-f2f2-7399ca27a18d"
      },
      "outputs": [
        {
          "name": "stdout",
          "output_type": "stream",
          "text": [
            "FileObject(id='file-9gw5KRFuvtAXkEJ79xGRZ1Bp', bytes=7138, created_at=1727142342, filename='train.jsonl', object='file', purpose='fine-tune', status='processed', status_details=None)\n"
          ]
        }
      ],
      "source": [
        "# Upload data to openai\n",
        "response = client.files.create(\n",
        "    file= open (\"train.jsonl\", \"rb\"),\n",
        "    purpose= \"fine-tune\"\n",
        ")\n",
        "print(response)"
      ]
    },
    {
      "cell_type": "code",
      "execution_count": 71,
      "metadata": {
        "colab": {
          "base_uri": "https://localhost:8080/",
          "height": 35
        },
        "id": "xw02F29wSADX",
        "outputId": "b2921208-dd4b-44b1-cfb8-241a78763905"
      },
      "outputs": [
        {
          "data": {
            "application/vnd.google.colaboratory.intrinsic+json": {
              "type": "string"
            },
            "text/plain": [
              "'file-9gw5KRFuvtAXkEJ79xGRZ1Bp'"
            ]
          },
          "execution_count": 71,
          "metadata": {},
          "output_type": "execute_result"
        }
      ],
      "source": [
        "file_id = response.id\n",
        "file_id"
      ]
    },
    {
      "cell_type": "code",
      "execution_count": 72,
      "metadata": {
        "id": "mqQxlrUaqUXb"
      },
      "outputs": [],
      "source": [
        "# we can delete file using the code below\n",
        "# response = client.files.delete(file_id)\n",
        "# response"
      ]
    },
    {
      "cell_type": "markdown",
      "metadata": {
        "id": "xcKtx9y3UH-V"
      },
      "source": [
        "The data will uploaded to openai storage\n",
        "\n",
        "![image.png](data:image/png;base64,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)"
      ]
    },
    {
      "cell_type": "code",
      "execution_count": 73,
      "metadata": {
        "colab": {
          "base_uri": "https://localhost:8080/"
        },
        "id": "Y6G8iXXxT-rD",
        "outputId": "f49e245e-453d-42fa-b41a-cf6ccb71c84e"
      },
      "outputs": [
        {
          "name": "stdout",
          "output_type": "stream",
          "text": [
            "Fine-tune job is started\n"
          ]
        }
      ],
      "source": [
        "# Fine tune job\n",
        "\n",
        "response = client.fine_tuning.jobs.create(\n",
        "    training_file=file_id,\n",
        "    model=\"gpt-4o-mini-2024-07-18\",\n",
        "    hyperparameters={\"n_epochs\": 1}\n",
        "    #validation_file\n",
        ")\n",
        "\n",
        "print(\"Fine-tune job is started\")\n",
        "ft_job_id = response.id #job id"
      ]
    },
    {
      "cell_type": "code",
      "execution_count": 74,
      "metadata": {
        "colab": {
          "base_uri": "https://localhost:8080/"
        },
        "id": "gR_xlvV4p4ae",
        "outputId": "cb38d2b7-27af-496a-9659-55d45b69ffc7"
      },
      "outputs": [
        {
          "data": {
            "text/plain": [
              "SyncCursorPage[FineTuningJobEvent](data=[FineTuningJobEvent(id='ftevent-TW6giSC7bvW2njE3oBHifCQl', created_at=1727142345, level='info', message='Validating training file: file-9gw5KRFuvtAXkEJ79xGRZ1Bp', object='fine_tuning.job.event', data={}, type='message'), FineTuningJobEvent(id='ftevent-nlRXYKZYPTZkWc2sxP2EzGyO', created_at=1727142345, level='info', message='Created fine-tuning job: ftjob-kyn3phCab9e9zRkv9CwYkO40', object='fine_tuning.job.event', data={}, type='message')], object='list', has_more=False)"
            ]
          },
          "execution_count": 74,
          "metadata": {},
          "output_type": "execute_result"
        }
      ],
      "source": [
        "# Check list event\n",
        "response = client.fine_tuning.jobs.list_events(fine_tuning_job_id=ft_job_id, limit=20)\n",
        "response"
      ]
    },
    {
      "cell_type": "code",
      "execution_count": 84,
      "metadata": {
        "colab": {
          "base_uri": "https://localhost:8080/"
        },
        "id": "fXgsG0waqx0L",
        "outputId": "9864a103-3602-4963-d36d-40b91924b5c7"
      },
      "outputs": [
        {
          "data": {
            "text/plain": [
              "FineTuningJob(id='ftjob-kyn3phCab9e9zRkv9CwYkO40', created_at=1727142345, error=Error(code=None, message=None, param=None), fine_tuned_model='ft:gpt-4o-mini-2024-07-18:personal::AAoy9dSb', finished_at=1727142567, hyperparameters=Hyperparameters(n_epochs=1, batch_size=1, learning_rate_multiplier=1.8), model='gpt-4o-mini-2024-07-18', object='fine_tuning.job', organization_id='org-cIgNLfQmscbxvF49tyzAXAvw', result_files=['file-ay4z1sp8lGqLxgePqNceQHf7'], seed=2019869736, status='succeeded', trained_tokens=1395, training_file='file-9gw5KRFuvtAXkEJ79xGRZ1Bp', validation_file=None, estimated_finish=None, integrations=[], user_provided_suffix=None)"
            ]
          },
          "execution_count": 84,
          "metadata": {},
          "output_type": "execute_result"
        }
      ],
      "source": [
        "# Check event status using job id\n",
        "response = client.fine_tuning.jobs.retrieve(ft_job_id)\n",
        "response"
      ]
    },
    {
      "cell_type": "code",
      "execution_count": 85,
      "metadata": {
        "colab": {
          "base_uri": "https://localhost:8080/"
        },
        "id": "msOOVnU5q-dT",
        "outputId": "a5b6c169-fe02-4b4b-f92f-46ee729e1355"
      },
      "outputs": [
        {
          "data": {
            "text/plain": [
              "['file-ay4z1sp8lGqLxgePqNceQHf7']"
            ]
          },
          "execution_count": 85,
          "metadata": {},
          "output_type": "execute_result"
        }
      ],
      "source": [
        "# check result file\n",
        "result_files = response.result_files\n",
        "result_files"
      ]
    },
    {
      "cell_type": "markdown",
      "metadata": {
        "id": "civRxMQ_phUf"
      },
      "source": [
        "# 4. Use the Finetuned Model"
      ]
    },
    {
      "cell_type": "code",
      "execution_count": 86,
      "metadata": {
        "colab": {
          "base_uri": "https://localhost:8080/",
          "height": 35
        },
        "id": "dLM8edsuUe8n",
        "outputId": "5a50d085-0fc2-470c-9267-9d8e3bd10060"
      },
      "outputs": [
        {
          "data": {
            "application/vnd.google.colaboratory.intrinsic+json": {
              "type": "string"
            },
            "text/plain": [
              "'ft:gpt-4o-mini-2024-07-18:personal::AAoy9dSb'"
            ]
          },
          "execution_count": 86,
          "metadata": {},
          "output_type": "execute_result"
        }
      ],
      "source": [
        "fine_tuned_model = response.fine_tuned_model\n",
        "fine_tuned_model"
      ]
    },
    {
      "cell_type": "code",
      "execution_count": 87,
      "metadata": {
        "id": "gQRD5TaippAE"
      },
      "outputs": [],
      "source": [
        "user_content = \"\"\"\n",
        "I'm lazy to do anything today. what should I do?\n",
        "\"\"\""
      ]
    },
    {
      "cell_type": "code",
      "execution_count": 91,
      "metadata": {
        "id": "0kqotokbpq2W"
      },
      "outputs": [],
      "source": [
        "completion = client.chat.completions.create(\n",
        "    model = fine_tuned_model,\n",
        "    messages = [\n",
        "        {\"role\": \"system\", \"content\": DEFAULT_SYSTEM_PROMPT},\n",
        "        {\"role\": \"user\", \"content\": user_content}\n",
        "    ]\n",
        ")"
      ]
    },
    {
      "cell_type": "code",
      "execution_count": 92,
      "metadata": {
        "colab": {
          "base_uri": "https://localhost:8080/"
        },
        "id": "LbN8PVjdrwZD",
        "outputId": "69e75aff-8d6d-4b61-fca9-05e410dc75bb"
      },
      "outputs": [
        {
          "name": "stdout",
          "output_type": "stream",
          "text": [
            "You could try lifting your motivation off the couch. It's probably too heavy for you, though.\n"
          ]
        }
      ],
      "source": [
        "print(completion.choices[0].message.content)"
      ]
    },
    {
      "cell_type": "code",
      "execution_count": 93,
      "metadata": {
        "id": "mGAY9BYZsExF"
      },
      "outputs": [],
      "source": [
        "user_content = \"\"\"\n",
        "I think I like someone but I don't think she likes me.\n",
        "\"\"\""
      ]
    },
    {
      "cell_type": "code",
      "execution_count": 94,
      "metadata": {
        "colab": {
          "base_uri": "https://localhost:8080/"
        },
        "id": "N8DhOaewsUyp",
        "outputId": "5334eaf5-72fd-4584-e874-ad2a95eb4c39"
      },
      "outputs": [
        {
          "name": "stdout",
          "output_type": "stream",
          "text": [
            "Well, you know what they say—there’s someone for everyone. For you, it’s just going to take a lot of time… or maybe a personality upgrade.\n"
          ]
        }
      ],
      "source": [
        "completion = client.chat.completions.create(\n",
        "  model=fine_tuned_model,\n",
        "  messages=[\n",
        "    {\"role\": \"system\", \"content\": DEFAULT_SYSTEM_PROMPT},\n",
        "    {\"role\": \"user\", \"content\": user_content}\n",
        "  ]\n",
        ")\n",
        "print(completion.choices[0].message.content)"
      ]
    },
    {
      "cell_type": "code",
      "execution_count": null,
      "metadata": {
        "id": "0IN-Wl57sZyH"
      },
      "outputs": [],
      "source": [
        "# to delete model we can run code below\n",
        "# client.models.delete(fine_tuned_model)"
      ]
    }
  ],
  "metadata": {
    "colab": {
      "provenance": []
    },
    "kernelspec": {
      "display_name": "Python 3",
      "name": "python3"
    },
    "language_info": {
      "name": "python"
    },
    "widgets": {
      "application/vnd.jupyter.widget-state+json": {
        "1cd728a3b5ca4aa0beade9989612c92d": {
          "model_module": "@jupyter-widgets/base",
          "model_module_version": "1.2.0",
          "model_name": "LayoutModel",
          "state": {
            "_model_module": "@jupyter-widgets/base",
            "_model_module_version": "1.2.0",
            "_model_name": "LayoutModel",
            "_view_count": null,
            "_view_module": "@jupyter-widgets/base",
            "_view_module_version": "1.2.0",
            "_view_name": "LayoutView",
            "align_content": null,
            "align_items": null,
            "align_self": null,
            "border": null,
            "bottom": null,
            "display": null,
            "flex": null,
            "flex_flow": null,
            "grid_area": null,
            "grid_auto_columns": null,
            "grid_auto_flow": null,
            "grid_auto_rows": null,
            "grid_column": null,
            "grid_gap": null,
            "grid_row": null,
            "grid_template_areas": null,
            "grid_template_columns": null,
            "grid_template_rows": null,
            "height": null,
            "justify_content": null,
            "justify_items": null,
            "left": null,
            "margin": null,
            "max_height": null,
            "max_width": null,
            "min_height": null,
            "min_width": null,
            "object_fit": null,
            "object_position": null,
            "order": null,
            "overflow": null,
            "overflow_x": null,
            "overflow_y": null,
            "padding": null,
            "right": null,
            "top": null,
            "visibility": null,
            "width": null
          }
        },
        "33c940924c8b49ef8b0d4346d2d808df": {
          "model_module": "@jupyter-widgets/controls",
          "model_module_version": "1.5.0",
          "model_name": "ProgressStyleModel",
          "state": {
            "_model_module": "@jupyter-widgets/controls",
            "_model_module_version": "1.5.0",
            "_model_name": "ProgressStyleModel",
            "_view_count": null,
            "_view_module": "@jupyter-widgets/base",
            "_view_module_version": "1.2.0",
            "_view_name": "StyleView",
            "bar_color": null,
            "description_width": ""
          }
        },
        "3e73941354754fff8002a483e360c8bc": {
          "model_module": "@jupyter-widgets/controls",
          "model_module_version": "1.5.0",
          "model_name": "HTMLModel",
          "state": {
            "_dom_classes": [],
            "_model_module": "@jupyter-widgets/controls",
            "_model_module_version": "1.5.0",
            "_model_name": "HTMLModel",
            "_view_count": null,
            "_view_module": "@jupyter-widgets/controls",
            "_view_module_version": "1.5.0",
            "_view_name": "HTMLView",
            "description": "",
            "description_tooltip": null,
            "layout": "IPY_MODEL_81311a6711b64319a57b6b9d41318b36",
            "placeholder": "​",
            "style": "IPY_MODEL_ea578a1fc0be46239d07b2147e7a39b0",
            "value": " 733/733 [00:00&lt;00:00, 5930.28 examples/s]"
          }
        },
        "4643fc1c5fd245f0835421c2084742ec": {
          "model_module": "@jupyter-widgets/controls",
          "model_module_version": "1.5.0",
          "model_name": "HBoxModel",
          "state": {
            "_dom_classes": [],
            "_model_module": "@jupyter-widgets/controls",
            "_model_module_version": "1.5.0",
            "_model_name": "HBoxModel",
            "_view_count": null,
            "_view_module": "@jupyter-widgets/controls",
            "_view_module_version": "1.5.0",
            "_view_name": "HBoxView",
            "box_style": "",
            "children": [
              "IPY_MODEL_97b2f54fd8764ec68e69d313274f50bc",
              "IPY_MODEL_53d4658a417a4789a4d17de0865d60f3",
              "IPY_MODEL_3e73941354754fff8002a483e360c8bc"
            ],
            "layout": "IPY_MODEL_b2a4761c2f294885815591f80a8e3a11"
          }
        },
        "4ebfcb3f7be04e8e9e24ea19905586f2": {
          "model_module": "@jupyter-widgets/controls",
          "model_module_version": "1.5.0",
          "model_name": "HTMLModel",
          "state": {
            "_dom_classes": [],
            "_model_module": "@jupyter-widgets/controls",
            "_model_module_version": "1.5.0",
            "_model_name": "HTMLModel",
            "_view_count": null,
            "_view_module": "@jupyter-widgets/controls",
            "_view_module_version": "1.5.0",
            "_view_name": "HTMLView",
            "description": "",
            "description_tooltip": null,
            "layout": "IPY_MODEL_8125eed67f1a42c28aebe24124877a13",
            "placeholder": "​",
            "style": "IPY_MODEL_f7f583eb9159473bb50c1bd888d0c9d0",
            "value": " 96.6k/96.6k [00:00&lt;00:00, 1.76MB/s]"
          }
        },
        "5253bced6e634242a1bc0d6adf7bde50": {
          "model_module": "@jupyter-widgets/base",
          "model_module_version": "1.2.0",
          "model_name": "LayoutModel",
          "state": {
            "_model_module": "@jupyter-widgets/base",
            "_model_module_version": "1.2.0",
            "_model_name": "LayoutModel",
            "_view_count": null,
            "_view_module": "@jupyter-widgets/base",
            "_view_module_version": "1.2.0",
            "_view_name": "LayoutView",
            "align_content": null,
            "align_items": null,
            "align_self": null,
            "border": null,
            "bottom": null,
            "display": null,
            "flex": null,
            "flex_flow": null,
            "grid_area": null,
            "grid_auto_columns": null,
            "grid_auto_flow": null,
            "grid_auto_rows": null,
            "grid_column": null,
            "grid_gap": null,
            "grid_row": null,
            "grid_template_areas": null,
            "grid_template_columns": null,
            "grid_template_rows": null,
            "height": null,
            "justify_content": null,
            "justify_items": null,
            "left": null,
            "margin": null,
            "max_height": null,
            "max_width": null,
            "min_height": null,
            "min_width": null,
            "object_fit": null,
            "object_position": null,
            "order": null,
            "overflow": null,
            "overflow_x": null,
            "overflow_y": null,
            "padding": null,
            "right": null,
            "top": null,
            "visibility": null,
            "width": null
          }
        },
        "531652781aa64fca9e6bcab1531af2bd": {
          "model_module": "@jupyter-widgets/base",
          "model_module_version": "1.2.0",
          "model_name": "LayoutModel",
          "state": {
            "_model_module": "@jupyter-widgets/base",
            "_model_module_version": "1.2.0",
            "_model_name": "LayoutModel",
            "_view_count": null,
            "_view_module": "@jupyter-widgets/base",
            "_view_module_version": "1.2.0",
            "_view_name": "LayoutView",
            "align_content": null,
            "align_items": null,
            "align_self": null,
            "border": null,
            "bottom": null,
            "display": null,
            "flex": null,
            "flex_flow": null,
            "grid_area": null,
            "grid_auto_columns": null,
            "grid_auto_flow": null,
            "grid_auto_rows": null,
            "grid_column": null,
            "grid_gap": null,
            "grid_row": null,
            "grid_template_areas": null,
            "grid_template_columns": null,
            "grid_template_rows": null,
            "height": null,
            "justify_content": null,
            "justify_items": null,
            "left": null,
            "margin": null,
            "max_height": null,
            "max_width": null,
            "min_height": null,
            "min_width": null,
            "object_fit": null,
            "object_position": null,
            "order": null,
            "overflow": null,
            "overflow_x": null,
            "overflow_y": null,
            "padding": null,
            "right": null,
            "top": null,
            "visibility": null,
            "width": null
          }
        },
        "53d4658a417a4789a4d17de0865d60f3": {
          "model_module": "@jupyter-widgets/controls",
          "model_module_version": "1.5.0",
          "model_name": "FloatProgressModel",
          "state": {
            "_dom_classes": [],
            "_model_module": "@jupyter-widgets/controls",
            "_model_module_version": "1.5.0",
            "_model_name": "FloatProgressModel",
            "_view_count": null,
            "_view_module": "@jupyter-widgets/controls",
            "_view_module_version": "1.5.0",
            "_view_name": "ProgressView",
            "bar_style": "success",
            "description": "",
            "description_tooltip": null,
            "layout": "IPY_MODEL_c59d646223e348798d0aef788f587201",
            "max": 733,
            "min": 0,
            "orientation": "horizontal",
            "style": "IPY_MODEL_33c940924c8b49ef8b0d4346d2d808df",
            "value": 733
          }
        },
        "8125eed67f1a42c28aebe24124877a13": {
          "model_module": "@jupyter-widgets/base",
          "model_module_version": "1.2.0",
          "model_name": "LayoutModel",
          "state": {
            "_model_module": "@jupyter-widgets/base",
            "_model_module_version": "1.2.0",
            "_model_name": "LayoutModel",
            "_view_count": null,
            "_view_module": "@jupyter-widgets/base",
            "_view_module_version": "1.2.0",
            "_view_name": "LayoutView",
            "align_content": null,
            "align_items": null,
            "align_self": null,
            "border": null,
            "bottom": null,
            "display": null,
            "flex": null,
            "flex_flow": null,
            "grid_area": null,
            "grid_auto_columns": null,
            "grid_auto_flow": null,
            "grid_auto_rows": null,
            "grid_column": null,
            "grid_gap": null,
            "grid_row": null,
            "grid_template_areas": null,
            "grid_template_columns": null,
            "grid_template_rows": null,
            "height": null,
            "justify_content": null,
            "justify_items": null,
            "left": null,
            "margin": null,
            "max_height": null,
            "max_width": null,
            "min_height": null,
            "min_width": null,
            "object_fit": null,
            "object_position": null,
            "order": null,
            "overflow": null,
            "overflow_x": null,
            "overflow_y": null,
            "padding": null,
            "right": null,
            "top": null,
            "visibility": null,
            "width": null
          }
        },
        "81311a6711b64319a57b6b9d41318b36": {
          "model_module": "@jupyter-widgets/base",
          "model_module_version": "1.2.0",
          "model_name": "LayoutModel",
          "state": {
            "_model_module": "@jupyter-widgets/base",
            "_model_module_version": "1.2.0",
            "_model_name": "LayoutModel",
            "_view_count": null,
            "_view_module": "@jupyter-widgets/base",
            "_view_module_version": "1.2.0",
            "_view_name": "LayoutView",
            "align_content": null,
            "align_items": null,
            "align_self": null,
            "border": null,
            "bottom": null,
            "display": null,
            "flex": null,
            "flex_flow": null,
            "grid_area": null,
            "grid_auto_columns": null,
            "grid_auto_flow": null,
            "grid_auto_rows": null,
            "grid_column": null,
            "grid_gap": null,
            "grid_row": null,
            "grid_template_areas": null,
            "grid_template_columns": null,
            "grid_template_rows": null,
            "height": null,
            "justify_content": null,
            "justify_items": null,
            "left": null,
            "margin": null,
            "max_height": null,
            "max_width": null,
            "min_height": null,
            "min_width": null,
            "object_fit": null,
            "object_position": null,
            "order": null,
            "overflow": null,
            "overflow_x": null,
            "overflow_y": null,
            "padding": null,
            "right": null,
            "top": null,
            "visibility": null,
            "width": null
          }
        },
        "86e1474244a44717b0af340595175a40": {
          "model_module": "@jupyter-widgets/controls",
          "model_module_version": "1.5.0",
          "model_name": "HBoxModel",
          "state": {
            "_dom_classes": [],
            "_model_module": "@jupyter-widgets/controls",
            "_model_module_version": "1.5.0",
            "_model_name": "HBoxModel",
            "_view_count": null,
            "_view_module": "@jupyter-widgets/controls",
            "_view_module_version": "1.5.0",
            "_view_name": "HBoxView",
            "box_style": "",
            "children": [
              "IPY_MODEL_f14fcfc52cb4404caaf0a4d965d83481",
              "IPY_MODEL_b502908583724ae1b677f938a60407b4",
              "IPY_MODEL_4ebfcb3f7be04e8e9e24ea19905586f2"
            ],
            "layout": "IPY_MODEL_531652781aa64fca9e6bcab1531af2bd"
          }
        },
        "8719f39840ca4c778ae3b9eb0c6bb396": {
          "model_module": "@jupyter-widgets/controls",
          "model_module_version": "1.5.0",
          "model_name": "ProgressStyleModel",
          "state": {
            "_model_module": "@jupyter-widgets/controls",
            "_model_module_version": "1.5.0",
            "_model_name": "ProgressStyleModel",
            "_view_count": null,
            "_view_module": "@jupyter-widgets/base",
            "_view_module_version": "1.2.0",
            "_view_name": "StyleView",
            "bar_color": null,
            "description_width": ""
          }
        },
        "8d955e5b2d4c482a89dff2bca202c68a": {
          "model_module": "@jupyter-widgets/base",
          "model_module_version": "1.2.0",
          "model_name": "LayoutModel",
          "state": {
            "_model_module": "@jupyter-widgets/base",
            "_model_module_version": "1.2.0",
            "_model_name": "LayoutModel",
            "_view_count": null,
            "_view_module": "@jupyter-widgets/base",
            "_view_module_version": "1.2.0",
            "_view_name": "LayoutView",
            "align_content": null,
            "align_items": null,
            "align_self": null,
            "border": null,
            "bottom": null,
            "display": null,
            "flex": null,
            "flex_flow": null,
            "grid_area": null,
            "grid_auto_columns": null,
            "grid_auto_flow": null,
            "grid_auto_rows": null,
            "grid_column": null,
            "grid_gap": null,
            "grid_row": null,
            "grid_template_areas": null,
            "grid_template_columns": null,
            "grid_template_rows": null,
            "height": null,
            "justify_content": null,
            "justify_items": null,
            "left": null,
            "margin": null,
            "max_height": null,
            "max_width": null,
            "min_height": null,
            "min_width": null,
            "object_fit": null,
            "object_position": null,
            "order": null,
            "overflow": null,
            "overflow_x": null,
            "overflow_y": null,
            "padding": null,
            "right": null,
            "top": null,
            "visibility": null,
            "width": null
          }
        },
        "97b2f54fd8764ec68e69d313274f50bc": {
          "model_module": "@jupyter-widgets/controls",
          "model_module_version": "1.5.0",
          "model_name": "HTMLModel",
          "state": {
            "_dom_classes": [],
            "_model_module": "@jupyter-widgets/controls",
            "_model_module_version": "1.5.0",
            "_model_name": "HTMLModel",
            "_view_count": null,
            "_view_module": "@jupyter-widgets/controls",
            "_view_module_version": "1.5.0",
            "_view_name": "HTMLView",
            "description": "",
            "description_tooltip": null,
            "layout": "IPY_MODEL_8d955e5b2d4c482a89dff2bca202c68a",
            "placeholder": "​",
            "style": "IPY_MODEL_b89c8e68ec6346e4853113da7c80acf4",
            "value": "Generating train split: 100%"
          }
        },
        "b2a4761c2f294885815591f80a8e3a11": {
          "model_module": "@jupyter-widgets/base",
          "model_module_version": "1.2.0",
          "model_name": "LayoutModel",
          "state": {
            "_model_module": "@jupyter-widgets/base",
            "_model_module_version": "1.2.0",
            "_model_name": "LayoutModel",
            "_view_count": null,
            "_view_module": "@jupyter-widgets/base",
            "_view_module_version": "1.2.0",
            "_view_name": "LayoutView",
            "align_content": null,
            "align_items": null,
            "align_self": null,
            "border": null,
            "bottom": null,
            "display": null,
            "flex": null,
            "flex_flow": null,
            "grid_area": null,
            "grid_auto_columns": null,
            "grid_auto_flow": null,
            "grid_auto_rows": null,
            "grid_column": null,
            "grid_gap": null,
            "grid_row": null,
            "grid_template_areas": null,
            "grid_template_columns": null,
            "grid_template_rows": null,
            "height": null,
            "justify_content": null,
            "justify_items": null,
            "left": null,
            "margin": null,
            "max_height": null,
            "max_width": null,
            "min_height": null,
            "min_width": null,
            "object_fit": null,
            "object_position": null,
            "order": null,
            "overflow": null,
            "overflow_x": null,
            "overflow_y": null,
            "padding": null,
            "right": null,
            "top": null,
            "visibility": null,
            "width": null
          }
        },
        "b502908583724ae1b677f938a60407b4": {
          "model_module": "@jupyter-widgets/controls",
          "model_module_version": "1.5.0",
          "model_name": "FloatProgressModel",
          "state": {
            "_dom_classes": [],
            "_model_module": "@jupyter-widgets/controls",
            "_model_module_version": "1.5.0",
            "_model_name": "FloatProgressModel",
            "_view_count": null,
            "_view_module": "@jupyter-widgets/controls",
            "_view_module_version": "1.5.0",
            "_view_name": "ProgressView",
            "bar_style": "success",
            "description": "",
            "description_tooltip": null,
            "layout": "IPY_MODEL_5253bced6e634242a1bc0d6adf7bde50",
            "max": 96553,
            "min": 0,
            "orientation": "horizontal",
            "style": "IPY_MODEL_8719f39840ca4c778ae3b9eb0c6bb396",
            "value": 96553
          }
        },
        "b89c8e68ec6346e4853113da7c80acf4": {
          "model_module": "@jupyter-widgets/controls",
          "model_module_version": "1.5.0",
          "model_name": "DescriptionStyleModel",
          "state": {
            "_model_module": "@jupyter-widgets/controls",
            "_model_module_version": "1.5.0",
            "_model_name": "DescriptionStyleModel",
            "_view_count": null,
            "_view_module": "@jupyter-widgets/base",
            "_view_module_version": "1.2.0",
            "_view_name": "StyleView",
            "description_width": ""
          }
        },
        "c59d646223e348798d0aef788f587201": {
          "model_module": "@jupyter-widgets/base",
          "model_module_version": "1.2.0",
          "model_name": "LayoutModel",
          "state": {
            "_model_module": "@jupyter-widgets/base",
            "_model_module_version": "1.2.0",
            "_model_name": "LayoutModel",
            "_view_count": null,
            "_view_module": "@jupyter-widgets/base",
            "_view_module_version": "1.2.0",
            "_view_name": "LayoutView",
            "align_content": null,
            "align_items": null,
            "align_self": null,
            "border": null,
            "bottom": null,
            "display": null,
            "flex": null,
            "flex_flow": null,
            "grid_area": null,
            "grid_auto_columns": null,
            "grid_auto_flow": null,
            "grid_auto_rows": null,
            "grid_column": null,
            "grid_gap": null,
            "grid_row": null,
            "grid_template_areas": null,
            "grid_template_columns": null,
            "grid_template_rows": null,
            "height": null,
            "justify_content": null,
            "justify_items": null,
            "left": null,
            "margin": null,
            "max_height": null,
            "max_width": null,
            "min_height": null,
            "min_width": null,
            "object_fit": null,
            "object_position": null,
            "order": null,
            "overflow": null,
            "overflow_x": null,
            "overflow_y": null,
            "padding": null,
            "right": null,
            "top": null,
            "visibility": null,
            "width": null
          }
        },
        "e25eee0633d44e0c99e28a771a82f595": {
          "model_module": "@jupyter-widgets/controls",
          "model_module_version": "1.5.0",
          "model_name": "DescriptionStyleModel",
          "state": {
            "_model_module": "@jupyter-widgets/controls",
            "_model_module_version": "1.5.0",
            "_model_name": "DescriptionStyleModel",
            "_view_count": null,
            "_view_module": "@jupyter-widgets/base",
            "_view_module_version": "1.2.0",
            "_view_name": "StyleView",
            "description_width": ""
          }
        },
        "ea578a1fc0be46239d07b2147e7a39b0": {
          "model_module": "@jupyter-widgets/controls",
          "model_module_version": "1.5.0",
          "model_name": "DescriptionStyleModel",
          "state": {
            "_model_module": "@jupyter-widgets/controls",
            "_model_module_version": "1.5.0",
            "_model_name": "DescriptionStyleModel",
            "_view_count": null,
            "_view_module": "@jupyter-widgets/base",
            "_view_module_version": "1.2.0",
            "_view_name": "StyleView",
            "description_width": ""
          }
        },
        "f14fcfc52cb4404caaf0a4d965d83481": {
          "model_module": "@jupyter-widgets/controls",
          "model_module_version": "1.5.0",
          "model_name": "HTMLModel",
          "state": {
            "_dom_classes": [],
            "_model_module": "@jupyter-widgets/controls",
            "_model_module_version": "1.5.0",
            "_model_name": "HTMLModel",
            "_view_count": null,
            "_view_module": "@jupyter-widgets/controls",
            "_view_module_version": "1.5.0",
            "_view_name": "HTMLView",
            "description": "",
            "description_tooltip": null,
            "layout": "IPY_MODEL_1cd728a3b5ca4aa0beade9989612c92d",
            "placeholder": "​",
            "style": "IPY_MODEL_e25eee0633d44e0c99e28a771a82f595",
            "value": "merged_df.csv: 100%"
          }
        },
        "f7f583eb9159473bb50c1bd888d0c9d0": {
          "model_module": "@jupyter-widgets/controls",
          "model_module_version": "1.5.0",
          "model_name": "DescriptionStyleModel",
          "state": {
            "_model_module": "@jupyter-widgets/controls",
            "_model_module_version": "1.5.0",
            "_model_name": "DescriptionStyleModel",
            "_view_count": null,
            "_view_module": "@jupyter-widgets/base",
            "_view_module_version": "1.2.0",
            "_view_name": "StyleView",
            "description_width": ""
          }
        }
      }
    }
  },
  "nbformat": 4,
  "nbformat_minor": 0
}
